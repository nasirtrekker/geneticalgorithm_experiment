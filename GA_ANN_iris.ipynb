{
 "cells": [
  {
   "cell_type": "markdown",
   "metadata": {},
   "source": [
    "### Optimize ANN with Genetic Algorithm"
   ]
  },
  {
   "cell_type": "code",
   "execution_count": 1,
   "metadata": {},
   "outputs": [],
   "source": [
    "# import library \n",
    "\n",
    "import tensorflow as tf\n",
    "from sklearn import datasets\n",
    "import numpy as np\n",
    "import matplotlib.pyplot as plt\n",
    "from sklearn.metrics import accuracy_score\n",
    "from sklearn.model_selection import train_test_split\n",
    "from random import randint\n",
    "import random\n",
    "from sklearn import preprocessing\n"
   ]
  },
  {
   "cell_type": "code",
   "execution_count": 2,
   "metadata": {},
   "outputs": [],
   "source": [
    "# Load dataset\n",
    "iris = datasets.load_iris()\n",
    "X = iris.data\n",
    "y = iris.target\n",
    "X_train, X_test, y_train, y_test = train_test_split(X, y, test_size=0.20, random_state=42)"
   ]
  },
  {
   "cell_type": "code",
   "execution_count": 4,
   "metadata": {},
   "outputs": [],
   "source": [
    "## import neural network module\n",
    "from tensorflow.keras.models import Sequential \n",
    "from tensorflow.keras.layers import Dense,Activation,Dropout \n",
    "from tensorflow.keras.layers import BatchNormalization \n",
    "from tensorflow.keras.utils import to_categorical"
   ]
  },
  {
   "cell_type": "code",
   "execution_count": 5,
   "metadata": {},
   "outputs": [],
   "source": [
    "def initialize_population(population_size):\n",
    "    activation = ['tanh', 'sigmoid', 'relu']\n",
    "    optimizer = ['sgd', 'rmsprop', 'adam']\n",
    "    pop = np.array([[random.choice(activation), random.choice(optimizer), randint(2,100),randint(2,50)]])\n",
    "    for i in range(0, population_size-1):\n",
    "        pop = np.append(pop, [[random.choice(activation), random.choice(optimizer), randint(2,100),randint(2,50)]], axis = 0)\n",
    "    return pop"
   ]
  },
  {
   "cell_type": "code",
   "execution_count": 6,
   "metadata": {},
   "outputs": [],
   "source": [
    "def crossover(parent_1, parent_2):\n",
    "    child = [parent_1[0], parent_2[1], parent_1[2], parent_2[3]]    \n",
    "    return child"
   ]
  },
  {
   "cell_type": "code",
   "execution_count": 7,
   "metadata": {},
   "outputs": [],
   "source": [
    "def mutate(child, prob_mut):\n",
    "    child_ = np.copy(child)\n",
    "    for c in range(0, len(child_)):\n",
    "        if np.random.rand() >= prob_mut:\n",
    "            k = randint(2,3)\n",
    "            child_[c,k] = int(child_[c,k]) + randint(1, 4)\n",
    "    return child_"
   ]
  },
  {
   "cell_type": "code",
   "execution_count": 8,
   "metadata": {},
   "outputs": [],
   "source": [
    "def function_fitness_keras(pop, X_train, y_train, X_test, y_test):\n",
    "    fitness = []\n",
    "    j = 0\n",
    "    for w in pop:\n",
    "        \n",
    "        model = Sequential()\n",
    "        model.add(Dense(int(w[2]), input_dim = 4, activation = w[0]))\n",
    "        model.add(Dense(int(w[3]), activation = w[0]))\n",
    "        model.add(Dropout(0.2))\n",
    "        model.add(Dense(3, activation = 'softmax'))\n",
    "        model.compile(loss = 'categorical_crossentropy', optimizer = w[1], metrics = ['accuracy'])\n",
    "        \n",
    "        try:\n",
    "            print('Model ', j, ':')\n",
    "            j = j + 1\n",
    "        \n",
    "            model.fit(X_train, y_train, batch_size = 20, epochs = 10, verbose = 0)\n",
    "            y_label = np.argmax(y_test, axis = 1)\n",
    "            predict_label = model.predict_classes(X_test)\n",
    "            f = np.sum(predict_label == y_label) / len(y_test)\n",
    "        \n",
    "            print(f)\n",
    "            fitness.append([f, model, w])\n",
    "        except:\n",
    "            pass\n",
    "    return fitness"
   ]
  },
  {
   "cell_type": "code",
   "execution_count": 9,
   "metadata": {},
   "outputs": [],
   "source": [
    "def ga_keras(X_train, y_train, X_test, y_test, num_epochs = 10, population_size = 10, prob_mut = 0.8):\n",
    "    pop = initialize_population(population_size)\n",
    "    fitness = function_fitness_keras(pop,  X_train, y_train, X_test, y_test)\n",
    "    print('shape of fitness = ', np.shape(fitness))\n",
    "    \n",
    "    pop_fitness_sort = np.array(list(reversed(sorted(fitness,key=lambda x: x[0]))))\n",
    "\n",
    "    print('shape of pop_fitness_sort = ', pop_fitness_sort.shape)\n",
    "    \n",
    "    for j in range(0, num_epochs):\n",
    "        print('--------- Iteration ', j, ' ----------')\n",
    "        \n",
    "        length = len(pop_fitness_sort)\n",
    "        # Selection of Parents\n",
    "        parent_1 = pop_fitness_sort[:,2][:length//2]\n",
    "        parent_2 = pop_fitness_sort[:,2][length//2:]\n",
    "\n",
    "        print('Parent selection done')\n",
    "        \n",
    "        # Crossover and Mutation\n",
    "        child_1 = [crossover(parent_1[i], parent_2[i]) for i in range(0, np.min([len(parent_2), len(parent_1)]))]\n",
    "        child_2 = [crossover(parent_2[i], parent_1[i]) for i in range(0, np.min([len(parent_2), len(parent_1)]))]\n",
    "        child_2 = mutate(child_2, prob_mut)\n",
    "        \n",
    "        print('Crossover and mutation done')\n",
    "        \n",
    "        # Calculation of fitness and sorting by best fitness to worst\n",
    "        fitness_child_1 = function_fitness_keras(child_1,X_train, y_train, X_test, y_test)\n",
    "        fitness_child_2 = function_fitness_keras(child_2, X_train, y_train, X_test, y_test)\n",
    "        pop_fitness_sort = np.concatenate((pop_fitness_sort, fitness_child_1, fitness_child_2))\n",
    "        sort = np.array(list(reversed(sorted(pop_fitness_sort,key=lambda x: x[0]))))\n",
    "        \n",
    "        print('Fitness calculated')\n",
    "        \n",
    "        # Selection of Best Individual, i.e., the fittest chromosome \n",
    "        pop_fitness_sort = sort[0:population_size, :]\n",
    "        print('Best fitness = ', sort[0][0])\n",
    "        best_individual = sort[0][1]\n",
    "        \n",
    "    return best_individual"
   ]
  },
  {
   "cell_type": "code",
   "execution_count": 10,
   "metadata": {},
   "outputs": [],
   "source": [
    "# labels_to_categorical\n",
    "y_train_cat = to_categorical(y_train)\n",
    "y_test_cat = to_categorical(y_test)"
   ]
  },
  {
   "cell_type": "code",
   "execution_count": 11,
   "metadata": {},
   "outputs": [],
   "source": [
    "# StandardScaler\n",
    "scaler = preprocessing.StandardScaler()"
   ]
  },
  {
   "cell_type": "code",
   "execution_count": 12,
   "metadata": {},
   "outputs": [],
   "source": [
    "# scale_features\n",
    "X_train_normalized = scaler.fit_transform(X_train)\n",
    "X_test_normalized = scaler.transform(X_test)"
   ]
  },
  {
   "cell_type": "code",
   "execution_count": 13,
   "metadata": {},
   "outputs": [
    {
     "name": "stdout",
     "output_type": "stream",
     "text": [
      "Model  0 :\n",
      "WARNING:tensorflow:From <ipython-input-8-8e3e188bfe3a>:19: Sequential.predict_classes (from tensorflow.python.keras.engine.sequential) is deprecated and will be removed after 2021-01-01.\n",
      "Instructions for updating:\n",
      "Please use instead:* `np.argmax(model.predict(x), axis=-1)`,   if your model does multi-class classification   (e.g. if it uses a `softmax` last-layer activation).* `(model.predict(x) > 0.5).astype(\"int32\")`,   if your model does binary classification   (e.g. if it uses a `sigmoid` last-layer activation).\n",
      "0.9\n",
      "Model  1 :\n",
      "0.9333333333333333\n",
      "Model  2 :\n",
      "0.9\n",
      "Model  3 :\n",
      "0.9333333333333333\n",
      "Model  4 :\n",
      "0.9333333333333333\n",
      "Model  5 :\n",
      "0.36666666666666664\n",
      "Model  6 :\n",
      "0.9\n",
      "Model  7 :\n",
      "0.7333333333333333\n",
      "Model  8 :\n",
      "0.9\n",
      "Model  9 :\n",
      "0.36666666666666664\n",
      "shape of fitness =  (10, 3)\n",
      "shape of pop_fitness_sort =  (10, 3)\n",
      "--------- Iteration  0  ----------\n",
      "Parent selection done\n",
      "Crossover and mutation done\n",
      "Model  0 :\n"
     ]
    },
    {
     "name": "stderr",
     "output_type": "stream",
     "text": [
      "/home/nasir/anaconda3/envs/tf2-gpu-py3.7/lib/python3.7/site-packages/numpy/core/_asarray.py:83: VisibleDeprecationWarning: Creating an ndarray from ragged nested sequences (which is a list-or-tuple of lists-or-tuples-or ndarrays with different lengths or shapes) is deprecated. If you meant to do this, you must specify 'dtype=object' when creating the ndarray\n",
      "  return array(a, dtype, copy=False, order=order)\n",
      "/home/nasir/anaconda3/envs/tf2-gpu-py3.7/lib/python3.7/site-packages/ipykernel_launcher.py:6: VisibleDeprecationWarning: Creating an ndarray from ragged nested sequences (which is a list-or-tuple of lists-or-tuples-or ndarrays with different lengths or shapes) is deprecated. If you meant to do this, you must specify 'dtype=object' when creating the ndarray\n",
      "  \n"
     ]
    },
    {
     "name": "stdout",
     "output_type": "stream",
     "text": [
      "0.9\n",
      "Model  1 :\n",
      "0.9333333333333333\n",
      "Model  2 :\n",
      "0.9\n",
      "Model  3 :\n",
      "0.8\n",
      "Model  4 :\n",
      "0.9\n",
      "Model  0 :\n",
      "0.9\n",
      "Model  1 :\n",
      "0.9333333333333333\n",
      "Model  2 :\n",
      "0.8333333333333334\n",
      "Model  3 :\n",
      "0.6666666666666666\n",
      "Model  4 :\n",
      "0.8333333333333334\n",
      "Fitness calculated\n",
      "Best fitness =  0.9333333333333333\n",
      "--------- Iteration  1  ----------\n",
      "Parent selection done\n",
      "Crossover and mutation done\n",
      "Model  0 :\n"
     ]
    },
    {
     "name": "stderr",
     "output_type": "stream",
     "text": [
      "<string>:6: VisibleDeprecationWarning: Creating an ndarray from ragged nested sequences (which is a list-or-tuple of lists-or-tuples-or ndarrays with different lengths or shapes) is deprecated. If you meant to do this, you must specify 'dtype=object' when creating the ndarray\n"
     ]
    },
    {
     "name": "stdout",
     "output_type": "stream",
     "text": [
      "0.9\n",
      "Model  1 :\n",
      "0.9\n",
      "Model  2 :\n",
      "0.8666666666666667\n",
      "Model  3 :\n",
      "0.9333333333333333\n",
      "Model  4 :\n",
      "0.9666666666666667\n",
      "Model  0 :\n",
      "0.9666666666666667\n",
      "Model  1 :\n",
      "0.9\n",
      "Model  2 :\n",
      "0.9666666666666667\n",
      "Model  3 :\n",
      "0.9666666666666667\n",
      "Model  4 :\n",
      "0.9\n",
      "Fitness calculated\n",
      "Best fitness =  0.9666666666666667\n",
      "--------- Iteration  2  ----------\n",
      "Parent selection done\n",
      "Crossover and mutation done\n",
      "Model  0 :\n",
      "0.9\n",
      "Model  1 :\n",
      "0.9666666666666667\n",
      "Model  2 :\n",
      "0.9666666666666667\n",
      "Model  3 :\n",
      "0.9333333333333333\n",
      "Model  4 :\n",
      "0.9666666666666667\n",
      "Model  0 :\n",
      "0.9666666666666667\n",
      "Model  1 :\n",
      "0.9333333333333333\n",
      "Model  2 :\n",
      "0.9666666666666667\n",
      "Model  3 :\n",
      "0.9333333333333333\n",
      "Model  4 :\n",
      "0.8\n",
      "Fitness calculated\n",
      "Best fitness =  0.9666666666666667\n",
      "--------- Iteration  3  ----------\n",
      "Parent selection done\n",
      "Crossover and mutation done\n",
      "Model  0 :\n",
      "0.9333333333333333\n",
      "Model  1 :\n",
      "0.9666666666666667\n",
      "Model  2 :\n",
      "0.9333333333333333\n",
      "Model  3 :\n",
      "0.9333333333333333\n",
      "Model  4 :\n",
      "0.9666666666666667\n",
      "Model  0 :\n",
      "0.9666666666666667\n",
      "Model  1 :\n",
      "0.9666666666666667\n",
      "Model  2 :\n",
      "0.9666666666666667\n",
      "Model  3 :\n",
      "0.9666666666666667\n",
      "Model  4 :\n",
      "0.9666666666666667\n",
      "Fitness calculated\n",
      "Best fitness =  0.9666666666666667\n",
      "--------- Iteration  4  ----------\n",
      "Parent selection done\n",
      "Crossover and mutation done\n",
      "Model  0 :\n",
      "0.9333333333333333\n",
      "Model  1 :\n",
      "0.9666666666666667\n",
      "Model  2 :\n",
      "0.9333333333333333\n",
      "Model  3 :\n",
      "0.9333333333333333\n",
      "Model  4 :\n",
      "0.9333333333333333\n",
      "Model  0 :\n",
      "0.9666666666666667\n",
      "Model  1 :\n",
      "0.9666666666666667\n",
      "Model  2 :\n",
      "0.9666666666666667\n",
      "Model  3 :\n",
      "0.9666666666666667\n",
      "Model  4 :\n",
      "0.9333333333333333\n",
      "Fitness calculated\n",
      "Best fitness =  0.9666666666666667\n"
     ]
    }
   ],
   "source": [
    "best_model = ga_keras(X_train_normalized, y_train_cat, X_test_normalized, y_test_cat, num_epochs = 5, population_size = 10, prob_mut = 0.8)\n",
    "# print (np.sum(best_model.predict(X_test_normalized) == y_test_cat) / len(y_test_cat)) # print accuracy of best_individual"
   ]
  },
  {
   "cell_type": "code",
   "execution_count": 14,
   "metadata": {},
   "outputs": [
    {
     "name": "stdout",
     "output_type": "stream",
     "text": [
      "0.9666666666666667\n"
     ]
    }
   ],
   "source": [
    "y_label = np.argmax(y_test_cat, axis = 1)\n",
    "predict_label = best_model.predict_classes(X_test_normalized)\n",
    "f = np.sum(predict_label == y_label) / len(y_test_cat)\n",
    "print(f)"
   ]
  },
  {
   "cell_type": "code",
   "execution_count": null,
   "metadata": {},
   "outputs": [],
   "source": []
  }
 ],
 "metadata": {
  "kernelspec": {
   "display_name": "tf2-gpu-py3.7",
   "language": "python",
   "name": "tf2-gpu-py3.7"
  },
  "language_info": {
   "codemirror_mode": {
    "name": "ipython",
    "version": 3
   },
   "file_extension": ".py",
   "mimetype": "text/x-python",
   "name": "python",
   "nbconvert_exporter": "python",
   "pygments_lexer": "ipython3",
   "version": "3.7.8"
  }
 },
 "nbformat": 4,
 "nbformat_minor": 4
}
